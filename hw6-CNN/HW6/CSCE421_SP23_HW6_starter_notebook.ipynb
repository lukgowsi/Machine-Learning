{
 "cells": [
  {
   "cell_type": "markdown",
   "metadata": {
    "id": "WcE39zEwyuJ7"
   },
   "source": [
    "# CSCE 421 :: Machine Learning :: Texas A&M University :: Spring 2023\n",
    "\n",
    "# Homework 6 (HW-6)\n",
    "**Name:**  \n",
    "**UIN:**  "
   ]
  },
  {
   "cell_type": "markdown",
   "metadata": {
    "id": "ifUFY68YyuJ_"
   },
   "source": [
    "# Convolutional Neural Networks\n",
    "\n",
    "In this assignment, you'll be coding up a convolutional neural network from scratch to classify images using PyTorch.  \n",
    "\n",
    "### Instructions\n",
    "- Install PyTorch following the instructions [here](https://pytorch.org/).\n",
    "- Install the [`torchinfo` package](https://github.com/TylerYep/torchinfo) to visualize the network architecture and the number of parameters. The maximum number of parameters you are allowed to use for your network is **100,000**. \n",
    "- You are required to complete the functions defined in the code blocks following each question. Fill out sections of the code marked `\"YOUR CODE HERE\"`.\n",
    "- You're free to add any number of methods within each class.\n",
    "- You may also add any number of additional code blocks that you deem necessary. \n",
    "- Once you've filled out your solutions, submit the notebook on Canvas.\n",
    "- Do **NOT** forget to type in your name and UIN at the beginning of the notebook."
   ]
  },
  {
   "cell_type": "markdown",
   "metadata": {
    "id": "43mQs43ryuKA"
   },
   "source": [
    "## Data Preparation"
   ]
  },
  {
   "cell_type": "markdown",
   "metadata": {},
   "source": [
    "#### Install the libraries you need based on your environment"
   ]
  },
  {
   "cell_type": "code",
   "execution_count": 724,
   "metadata": {},
   "outputs": [
    {
     "data": {
      "text/plain": [
       "' \\nName: Lucas Ho\\nUIN: 930009783\\n'"
      ]
     },
     "execution_count": 724,
     "metadata": {},
     "output_type": "execute_result"
    }
   ],
   "source": [
    "''' \n",
    "Name: Lucas Ho\n",
    "UIN: 930009783\n",
    "'''"
   ]
  },
  {
   "cell_type": "code",
   "execution_count": 725,
   "metadata": {
    "id": "_0NNNwDRyuKA"
   },
   "outputs": [],
   "source": [
    "# Importing the libraries\n",
    "import os\n",
    "import torch\n",
    "import torchvision\n",
    "from torchvision.utils import make_grid\n",
    "\n",
    "import numpy as np"
   ]
  },
  {
   "cell_type": "markdown",
   "metadata": {
    "id": "9g-7MOVTyuKB"
   },
   "source": [
    "In this assignment, we will use the Fashion-MNIST dataset. Fashion-MNIST is a dataset of Zalando's article images—consisting of a training set of 60,000 examples. Each example is a 28x28 grayscale image, associated with a label from 10 classes.  \n",
    "\n",
    "### Data\n",
    "\n",
    "Each image is 28 pixels in height and 28 pixels in width, for a total of 784 pixels in total. Each pixel has a single pixel-value associated with it, indicating the lightness or darkness of that pixel, with higher numbers meaning darker. This pixel-value is an integer between 0 and 255.  \n",
    "\n",
    "### Labels\n",
    "\n",
    "Each training and test example is assigned to one of the following labels:\n",
    "\n",
    "| Label | Description |\n",
    "|-------|-------------|\n",
    "| 0     | T-shirt/top |\n",
    "| 1     | Trouser     |\n",
    "| 2     | Pullover    |\n",
    "| 3     | Dress       |\n",
    "| 4     | Coat        |\n",
    "| 5     | Sandal      |\n",
    "| 6     | Shirt       |\n",
    "| 7     | Sneaker     |\n",
    "| 8     | Bag         |\n",
    "| 9     | Ankle boot  |\n",
    "\n",
    "Fashion-MNIST is included in the `torchvision` library."
   ]
  },
  {
   "cell_type": "code",
   "execution_count": 726,
   "metadata": {
    "id": "Q6nztLS7yuKC"
   },
   "outputs": [],
   "source": [
    "from torchvision.datasets import FashionMNIST\n",
    "from torchvision.transforms import Compose, ToTensor, Normalize"
   ]
  },
  {
   "cell_type": "code",
   "execution_count": 727,
   "metadata": {
    "id": "Z_uzCztNyuKD"
   },
   "outputs": [],
   "source": [
    "# Transform to normalize the data and convert to a tensor\n",
    "transform = Compose([ToTensor(),\n",
    "    Normalize((0.5,), (0.5,))\n",
    "    ])\n",
    "\n",
    "# Download the data\n",
    "dataset = FashionMNIST('MNIST_data/', download = True, train = True, transform = transform)"
   ]
  },
  {
   "cell_type": "markdown",
   "metadata": {
    "id": "2S1W1ktCyuKD"
   },
   "source": [
    "## Data Exploration"
   ]
  },
  {
   "cell_type": "markdown",
   "metadata": {
    "id": "t5JfHJvzyuKE"
   },
   "source": [
    "Let's take a look at the classes in our dataset."
   ]
  },
  {
   "cell_type": "code",
   "execution_count": 728,
   "metadata": {
    "id": "yZ2JquNdyuKE"
   },
   "outputs": [
    {
     "name": "stdout",
     "output_type": "stream",
     "text": [
      "['T-shirt/top', 'Trouser', 'Pullover', 'Dress', 'Coat', 'Sandal', 'Shirt', 'Sneaker', 'Bag', 'Ankle boot']\n"
     ]
    }
   ],
   "source": [
    "print(dataset.classes)"
   ]
  },
  {
   "cell_type": "code",
   "execution_count": 729,
   "metadata": {
    "id": "QU9EQWFoyuKE"
   },
   "outputs": [],
   "source": [
    "import matplotlib.pyplot as plt\n",
    "\n",
    "def show_example(img, label):\n",
    "    print('Label: {} ({})'.format(dataset.classes[label], label))\n",
    "    plt.imshow(img.squeeze(), cmap='Greys_r')\n",
    "    plt.axis(False)"
   ]
  },
  {
   "cell_type": "code",
   "execution_count": 730,
   "metadata": {
    "id": "TovSQLF6yuKF"
   },
   "outputs": [
    {
     "name": "stdout",
     "output_type": "stream",
     "text": [
      "Label: Dress (3)\n"
     ]
    },
    {
     "data": {
      "image/png": "[encoded data removed]",
      "text/plain": [
       "<Figure size 640x480 with 1 Axes>"
      ]
     },
     "metadata": {},
     "output_type": "display_data"
    }
   ],
   "source": [
    "show_example(*dataset[20])"
   ]
  },
  {
   "cell_type": "code",
   "execution_count": 731,
   "metadata": {
    "id": "lDiRVqLsyuKF"
   },
   "outputs": [
    {
     "name": "stdout",
     "output_type": "stream",
     "text": [
      "Label: Sneaker (7)\n"
     ]
    },
    {
     "data": {
      "image/png": "[encoded data removed]",
      "text/plain": [
       "<Figure size 640x480 with 1 Axes>"
      ]
     },
     "metadata": {},
     "output_type": "display_data"
    }
   ],
   "source": [
    "show_example(*dataset[20000])"
   ]
  },
  {
   "cell_type": "markdown",
   "metadata": {
    "id": "8GMSy_GHyuKF"
   },
   "source": [
    "## Creating Training and Validation Datasets"
   ]
  },
  {
   "cell_type": "markdown",
   "metadata": {
    "id": "R_MEJjfYyuKF"
   },
   "source": [
    "The `split_indices` function takes in the size of the entire dataset, `n`, the fraction of data to be used as validation set, `val_frac`, and the random seed and returns the indices of the data points to be added to the validation dataset.  \n",
    "\n",
    "**Choose a suitable fraction for your validation set and experiment with the seed. Remember that the better your validation set, the higher the chances that your model would do well on the test set.**"
   ]
  },
  {
   "cell_type": "code",
   "execution_count": 732,
   "metadata": {
    "id": "Kho3emIRyuKF"
   },
   "outputs": [],
   "source": [
    "def split_indices(n, val_frac, seed):\n",
    "    # Determine the size of the validation set\n",
    "    n_val = int(val_frac * n)\n",
    "    np.random.seed(seed)\n",
    "    # Create random permutation between 0 to n-1\n",
    "    idxs = np.random.permutation(n)\n",
    "    # Pick first n_val indices for validation set\n",
    "    return idxs[n_val:], idxs[:n_val]"
   ]
  },
  {
   "cell_type": "code",
   "execution_count": 733,
   "metadata": {
    "id": "NC7a43-ZyuKG"
   },
   "outputs": [
    {
     "name": "stdout",
     "output_type": "stream",
     "text": [
      "#samples in training set: 48000\n",
      "#samples in validation set: 12000\n"
     ]
    }
   ],
   "source": [
    "######################\n",
    "#   YOUR CODE BELOW  #\n",
    "######################\n",
    "\n",
    "## Set the fraction for the validation set\n",
    "val_frac =  1/5\n",
    "\n",
    "\n",
    "## Set the random seed\n",
    "rand_seed =  777\n",
    "\n",
    "train_indices, val_indices = split_indices(len(dataset), val_frac, rand_seed)\n",
    "\n",
    "trainNum = len(train_indices)\n",
    "valNum = len(val_indices)\n",
    "\n",
    "print(\"#samples in training set: {}\".format(len(train_indices)))\n",
    "print(\"#samples in validation set: {}\".format(len(val_indices)))"
   ]
  },
  {
   "cell_type": "markdown",
   "metadata": {
    "id": "5JbJS5GByuKG"
   },
   "source": [
    "Next, we make use of the built-in dataloaders in PyTorch to create iterables of our our training and validation sets. This helps in avoiding fitting the whole dataset into memory and only loads a batch of the data that we can decide. \n",
    "\n",
    "**Set the `batch_size` depending on the hardware resource (GPU/CPU RAM) you are using for the assignment.**"
   ]
  },
  {
   "cell_type": "code",
   "execution_count": 734,
   "metadata": {
    "id": "Xn2qrDnkyuKG"
   },
   "outputs": [],
   "source": [
    "from torch.utils.data.sampler import SubsetRandomSampler\n",
    "from torch.utils.data.dataloader import DataLoader"
   ]
  },
  {
   "cell_type": "code",
   "execution_count": 735,
   "metadata": {
    "id": "GQwCiHOhyuKG"
   },
   "outputs": [],
   "source": [
    "######################\n",
    "#   YOUR CODE BELOW  #\n",
    "######################\n",
    "\n",
    "## Set the batch size\n",
    "batch_size = 4"
   ]
  },
  {
   "cell_type": "code",
   "execution_count": 736,
   "metadata": {
    "id": "2gR9bGnYyuKG"
   },
   "outputs": [],
   "source": [
    "# Training sampler and data loader\n",
    "train_sampler = SubsetRandomSampler(train_indices)\n",
    "train_dl = DataLoader(dataset,\n",
    "                     batch_size,\n",
    "                     sampler=train_sampler)\n",
    "\n",
    "# Validation sampler and data loader\n",
    "val_sampler = SubsetRandomSampler(val_indices)\n",
    "val_dl = DataLoader(dataset,\n",
    "                   batch_size,\n",
    "                   sampler=val_sampler)"
   ]
  },
  {
   "cell_type": "markdown",
   "metadata": {
    "id": "yZ49pxx9yuKG"
   },
   "source": [
    "Plot images in a sample batch of data."
   ]
  },
  {
   "cell_type": "code",
   "execution_count": 737,
   "metadata": {
    "id": "ZRUpyKEryuKG"
   },
   "outputs": [],
   "source": [
    "def show_batch(dl):\n",
    "    for images, labels in dl:\n",
    "        fig, ax = plt.subplots(figsize=(10,10))\n",
    "        ax.set_xticks([]); ax.set_yticks([])\n",
    "        ax.imshow(make_grid(images, 8).permute(1, 2, 0), cmap='Greys_r')\n",
    "        break"
   ]
  },
  {
   "cell_type": "code",
   "execution_count": 738,
   "metadata": {
    "id": "fg0muQ6jyuKH"
   },
   "outputs": [
    {
     "name": "stderr",
     "output_type": "stream",
     "text": [
      "Clipping input data to the valid range for imshow with RGB data ([0..1] for floats or [0..255] for integers).\n"
     ]
    },
    {
     "data": {
      "image/png": "[encoded data removed]",
      "text/plain": [
       "<Figure size 1000x1000 with 1 Axes>"
      ]
     },
     "metadata": {},
     "output_type": "display_data"
    }
   ],
   "source": [
    "show_batch(train_dl)"
   ]
  },
  {
   "cell_type": "markdown",
   "metadata": {
    "id": "PA4syzZ0yuKH"
   },
   "source": [
    "## Building the Model"
   ]
  },
  {
   "attachments": {},
   "cell_type": "markdown",
   "metadata": {
    "id": "n6tp2iP8yuKH"
   },
   "source": [
    "Create your model by defining the network architecture in the `ImageClassifierNet` class.  \n",
    "**NOTE: The number of parameters in your network must be $\\leq$ 100,000.**"
   ]
  },
  {
   "cell_type": "code",
   "execution_count": 739,
   "metadata": {
    "id": "neHUVjlyyuKH"
   },
   "outputs": [],
   "source": [
    "# Import the libraries\n",
    "import torch.nn as nn\n",
    "import torch.nn.functional as F\n",
    "\n",
    "from torchinfo import summary"
   ]
  },
  {
   "cell_type": "code",
   "execution_count": 740,
   "metadata": {
    "id": "vy-ENg1LyuKH"
   },
   "outputs": [],
   "source": [
    "class ImageClassifierNet(nn.Module):\n",
    "    def __init__(self, n_channels=3):\n",
    "        super(ImageClassifierNet, self).__init__()\n",
    "        ######################\n",
    "        #   YOUR CODE HERE   #\n",
    "        ######################\n",
    "        # #fist layer of nodes\n",
    "        # self.conv1 = nn.Conv2d(in_channels=1, out_channels=5, kernel_size= 5)\n",
    "        \n",
    "        # #scale down conv1\n",
    "        # self.maxPool = nn.MaxPool2d(2,2)\n",
    "        \n",
    "        # #second layer of nodes\n",
    "        # self.conv2 = nn.Conv2d(in_channels=5, out_channels=10, kernel_size=5)\n",
    "        \n",
    "        # self.maxPool = nn.MaxPool2d(2,2)\n",
    "        \n",
    "        \n",
    "        # #first layer\n",
    "        # self.fc1 = nn.Linear(in_features= 10*4*4, out_features= 100)\n",
    "        # #second layer\n",
    "        # self.fc2 = nn.Linear(in_features=100, out_features= 50)\n",
    "        \n",
    "        # self.out = nn.Linear(50,10)\n",
    "        \n",
    "        #input shape (1,28,28)\n",
    "        self.conv1 = nn.Sequential(\n",
    "            nn.Conv2d(in_channels=1, #input channels\n",
    "                      out_channels=16, #n_filter\n",
    "                     kernel_size=5, #filter size\n",
    "                     stride = 1, #filter step\n",
    "                     padding = 2 #same output size\n",
    "                     ),\n",
    "            nn.ReLU(), #fully-connected layer\n",
    "            nn.MaxPool2d(kernel_size=2)) #max pooling layer. 2x2 sampling\n",
    "\n",
    "        self.conv2 = nn.Sequential(nn.Conv2d(16, 32, 5, 1, 2), \n",
    "                                  nn.ReLU(),\n",
    "                                  nn.MaxPool2d(kernel_size = 2))\n",
    "        \n",
    "        self.out = nn.Linear(32*7*7, 10)\n",
    "        \n",
    "        # self.conv1 = nn.Sequential(\n",
    "        #     nn.Conv2d(in_channels=1, #input channels\n",
    "        #               out_channels=16, #n_filter\n",
    "        #              kernel_size=5, #filter size\n",
    "        #              ),\n",
    "        #     nn.ReLU(), #fully-connected layer\n",
    "        #     nn.MaxPool2d(kernel_size=2, stride = 2)) #max pooling layer. 2x2 sampling\n",
    "\n",
    "        # self.conv2 = nn.Sequential(nn.Conv2d(16, 32, 5), \n",
    "        #                           nn.ReLU(),\n",
    "        #                           nn.MaxPool2d(kernel_size = 2, stride = 2))\n",
    "        \n",
    "        # self.out = nn.Linear(32*4*4, 10)\n",
    "        \n",
    "    def forward(self, X):\n",
    "        ######################\n",
    "        #   YOUR CODE HERE   #\n",
    "        ######################\n",
    "        X = self.conv1(X)\n",
    "        X = self.conv2(X)\n",
    "        \n",
    "        #flatten\n",
    "        X = X.view(-1, 32*7*7)\n",
    "        \n",
    "        output = self.out(X)\n",
    "        \n",
    "        return output"
   ]
  },
  {
   "cell_type": "code",
   "execution_count": 741,
   "metadata": {
    "id": "jfWFN9TFyuKH"
   },
   "outputs": [],
   "source": [
    "model = ImageClassifierNet()"
   ]
  },
  {
   "cell_type": "markdown",
   "metadata": {
    "id": "8tU88zUSyuKH"
   },
   "source": [
    "The following code block prints your network architecture. It also shows the total number of parameters in your network (see `Total params`).  \n",
    "\n",
    "**NOTE: The total number of parameters in your model should be <= 100,000.**"
   ]
  },
  {
   "cell_type": "code",
   "execution_count": 742,
   "metadata": {
    "id": "OeCRnkERyuKH"
   },
   "outputs": [
    {
     "name": "stderr",
     "output_type": "stream",
     "text": [
      "/home/lucaslh/.local/lib/python3.8/site-packages/torchinfo/torchinfo.py:477: UserWarning: TypedStorage is deprecated. It will be removed in the future and UntypedStorage will be the only storage class. This should only matter to you if you are using storages directly.  To access UntypedStorage directly, use tensor.untyped_storage() instead of tensor.storage()\n",
      "  action_fn=lambda data: sys.getsizeof(data.storage()),\n",
      "/home/lucaslh/.local/lib/python3.8/site-packages/torch/storage.py:665: UserWarning: TypedStorage is deprecated. It will be removed in the future and UntypedStorage will be the only storage class. This should only matter to you if you are using storages directly.  To access UntypedStorage directly, use tensor.untyped_storage() instead of tensor.storage()\n",
      "  return super().__sizeof__() + self.nbytes()\n"
     ]
    },
    {
     "data": {
      "text/plain": [
       "==========================================================================================\n",
       "Layer (type:depth-idx)                   Output Shape              Param #\n",
       "==========================================================================================\n",
       "ImageClassifierNet                       [4, 10]                   --\n",
       "├─Sequential: 1-1                        [4, 16, 14, 14]           --\n",
       "│    └─Conv2d: 2-1                       [4, 16, 28, 28]           416\n",
       "│    └─ReLU: 2-2                         [4, 16, 28, 28]           --\n",
       "│    └─MaxPool2d: 2-3                    [4, 16, 14, 14]           --\n",
       "├─Sequential: 1-2                        [4, 32, 7, 7]             --\n",
       "│    └─Conv2d: 2-4                       [4, 32, 14, 14]           12,832\n",
       "│    └─ReLU: 2-5                         [4, 32, 14, 14]           --\n",
       "│    └─MaxPool2d: 2-6                    [4, 32, 7, 7]             --\n",
       "├─Linear: 1-3                            [4, 10]                   15,690\n",
       "==========================================================================================\n",
       "Total params: 28,938\n",
       "Trainable params: 28,938\n",
       "Non-trainable params: 0\n",
       "Total mult-adds (M): 11.43\n",
       "==========================================================================================\n",
       "Input size (MB): 0.01\n",
       "Forward/backward pass size (MB): 0.60\n",
       "Params size (MB): 0.12\n",
       "Estimated Total Size (MB): 0.73\n",
       "=========================================================================================="
      ]
     },
     "execution_count": 742,
     "metadata": {},
     "output_type": "execute_result"
    }
   ],
   "source": [
    "summary(model, input_size=(batch_size, 1, 28, 28))"
   ]
  },
  {
   "cell_type": "markdown",
   "metadata": {
    "id": "3GPSVM59uEea"
   },
   "source": [
    "## Check Model Requirements status\n",
    "\n",
    "The code block below is to check if your model meets the requirements specefied \n",
    "\n",
    "Run the cell to check the status of your model"
   ]
  },
  {
   "cell_type": "code",
   "execution_count": 743,
   "metadata": {
    "id": "ZdRVnd7BuEDl"
   },
   "outputs": [
    {
     "name": "stdout",
     "output_type": "stream",
     "text": [
      "<class 'torch.nn.modules.linear.Linear'>\n",
      "The Network looks good\n"
     ]
    }
   ],
   "source": [
    "def check_model(model):\n",
    "  first_layer = list(model.children())[0]\n",
    "  last_layer  = list(model.children())[-1]\n",
    "  num_params = sum(p.numel() for p in model.parameters())\n",
    "  has_conv1d = False\n",
    "  has_maxpool2d = False\n",
    "  first_layer_status= False\n",
    "  last_layer_status = False\n",
    "\n",
    "  if isinstance(first_layer, nn.Sequential):\n",
    "        if isinstance(first_layer[0], nn.Conv2d) and first_layer[0].in_channels == 1:\n",
    "          first_layer_status= True\n",
    "  else: \n",
    "    if isinstance(first_layer, nn.Conv2d) and first_layer.in_channels == 1:\n",
    "      first_layer_status= True\n",
    "\n",
    "  if isinstance(last_layer, nn.Sequential):\n",
    "    if isinstance(last_layer[-1], nn.Linear) and last_layer[-1].out_features == 10:\n",
    "      last_layer_status = True\n",
    "  else:\n",
    "    print(type(last_layer))\n",
    "    if isinstance(last_layer, nn.Linear) and last_layer.out_features == 10:\n",
    "      last_layer_status = True\n",
    "\n",
    "  for layer in model.modules():\n",
    "    if isinstance(layer, nn.Conv1d):\n",
    "        has_conv1d = True\n",
    "    if isinstance(layer, nn.MaxPool2d):\n",
    "        has_maxpool2d = True\n",
    "  flag = False\n",
    "  if first_layer_status == False:\n",
    "    print(\"The very first parameter of the first layer is not 1 nn.Conv2d(1, ....)\")\n",
    "    flag = True\n",
    "  if last_layer_status == False:\n",
    "    print(\"The very last parameter of the last layer is not 10 nn.Linear(..., 10)\")\n",
    "    flag = True\n",
    "  if has_conv1d == True:\n",
    "    print(\"Using nn.Conv1d, which should not happen\")\n",
    "    flag = True\n",
    "  if has_maxpool2d == False:\n",
    "    print(\"No nn.MaxPool2d\")\n",
    "    flag = True\n",
    "  if num_params > 100000:\n",
    "    print(\"Parameters > 100000, please make the network less complex to recieve full grade\")\n",
    "  \n",
    "  if flag == False:\n",
    "    print(\"The Network looks good\") \n",
    "\n",
    "check_model(model)"
   ]
  },
  {
   "cell_type": "markdown",
   "metadata": {
    "id": "nyrnbD-JyuKH"
   },
   "source": [
    "## Enable training on a GPU"
   ]
  },
  {
   "cell_type": "markdown",
   "metadata": {
    "id": "-hijq-mSyuKH"
   },
   "source": [
    "**NOTE:** This section is necessary if you're training your model on a GPU."
   ]
  },
  {
   "cell_type": "code",
   "execution_count": 744,
   "metadata": {
    "id": "3ag3cLTDyuKI"
   },
   "outputs": [],
   "source": [
    "def get_default_device():\n",
    "    \"\"\"Use GPU if available, else CPU\"\"\"\n",
    "    if torch.cuda.is_available():\n",
    "        return torch.device('cuda')\n",
    "    else:\n",
    "        return torch.device('cpu')\n",
    "\n",
    "def to_device(data, device):\n",
    "    \"\"\"Move tensor(s) to chosen device\"\"\"\n",
    "    if isinstance(data, (list,tuple)):\n",
    "        return [to_device(x, device) for x in data]\n",
    "    return data.to(device, non_blocking=True)\n",
    "\n",
    "class DeviceDataLoader():\n",
    "    \"\"\"Wrap a dataloader to move data to a device\"\"\"\n",
    "    def __init__(self, dl, device):\n",
    "        self.dl = dl\n",
    "        self.device = device\n",
    "    \n",
    "    def __iter__(self):\n",
    "        \"\"\"Yield a batch of data after moving it to device\"\"\"\n",
    "        for b in self.dl:\n",
    "            yield to_device(b, self.device)\n",
    "    \n",
    "    def __len__(self):\n",
    "        \"\"\"Number of batches\"\"\"\n",
    "        return len(self.dl)"
   ]
  },
  {
   "cell_type": "code",
   "execution_count": 745,
   "metadata": {
    "id": "v8SDHmBkyuKI"
   },
   "outputs": [
    {
     "data": {
      "text/plain": [
       "ImageClassifierNet(\n",
       "  (conv1): Sequential(\n",
       "    (0): Conv2d(1, 16, kernel_size=(5, 5), stride=(1, 1), padding=(2, 2))\n",
       "    (1): ReLU()\n",
       "    (2): MaxPool2d(kernel_size=2, stride=2, padding=0, dilation=1, ceil_mode=False)\n",
       "  )\n",
       "  (conv2): Sequential(\n",
       "    (0): Conv2d(16, 32, kernel_size=(5, 5), stride=(1, 1), padding=(2, 2))\n",
       "    (1): ReLU()\n",
       "    (2): MaxPool2d(kernel_size=2, stride=2, padding=0, dilation=1, ceil_mode=False)\n",
       "  )\n",
       "  (out): Linear(in_features=1568, out_features=10, bias=True)\n",
       ")"
      ]
     },
     "execution_count": 745,
     "metadata": {},
     "output_type": "execute_result"
    }
   ],
   "source": [
    "device = get_default_device()\n",
    "\n",
    "train_dl = DeviceDataLoader(train_dl, device)\n",
    "val_dl = DeviceDataLoader(val_dl, device)\n",
    "\n",
    "to_device(model, device)"
   ]
  },
  {
   "cell_type": "markdown",
   "metadata": {
    "id": "NUpkpFcoyuKI"
   },
   "source": [
    "## Train the model"
   ]
  },
  {
   "cell_type": "markdown",
   "metadata": {
    "id": "2_wGb9mcyuKI"
   },
   "source": [
    "Complete the `train_model` function to train your model on a dataset. Tune your network architecture and hyperparameters on a validation set."
   ]
  },
  {
   "cell_type": "code",
   "execution_count": 746,
   "metadata": {
    "id": "smWOXIi6yuKI"
   },
   "outputs": [],
   "source": [
    "def train_model(n_epochs, model, train_dl, val_dl, loss_fn, opt_fn, lr):\n",
    "    \"\"\"\n",
    "    Trains the model on a dataset.\n",
    "    \n",
    "    Args:\n",
    "        n_epochs: number of epochs\n",
    "        model: ImageClassifierNet object\n",
    "        train_dl: training dataloader\n",
    "        val_dl: validation dataloader\n",
    "        loss_fn: the loss function\n",
    "        opt_fn: the optimizer\n",
    "        lr: learning rate\n",
    "    \n",
    "    Returns:\n",
    "        The trained model. \n",
    "        A tuple of (model, train_losses, val_losses, train_accuracies, val_accuracies)\n",
    "    \"\"\"\n",
    "    # Record these values the end of each epoch\n",
    "    train_losses, val_losses, train_accuracies, val_accuracies = [], [], [], []\n",
    "    \n",
    "    ######################\n",
    "    #   YOUR CODE HERE   #\n",
    "    ######################\n",
    "    \n",
    "    for epoch in range(0, n_epochs):\n",
    "        # set the model in training mode\n",
    "        model.train()\n",
    "        # initialize the total training and validation loss\n",
    "        totalTrainLoss = 0\n",
    "        totalValLoss = 0\n",
    "        # initialize the number of correct predictions in the training\n",
    "        # and validation step\n",
    "        trainCorrect = 0\n",
    "        valCorrect = 0\n",
    "        # loop over the training set\n",
    "        for (x, y) in train_dl:\n",
    "            # send the input to the device\n",
    "            (x, y) = (x.to(device), y.to(device))\n",
    "            # perform a forward pass and calculate the training loss\n",
    "            pred = model(x)\n",
    "            loss = loss_fn(pred, y)\n",
    "            # zero out the gradients, perform the backpropagation step,\n",
    "            # and update the weights\n",
    "            opt_fn.zero_grad()\n",
    "            loss.backward()\n",
    "            opt_fn.step()\n",
    "            \n",
    "            # add the loss to the total training loss so far and\n",
    "            # calculate the number of correct predictions\n",
    "            totalTrainLoss += loss\n",
    "            trainCorrect += (pred.argmax(1) == y).type(torch.float).sum().item()\n",
    "            \n",
    "        # print('size is: ' + str(x.size(0)))\n",
    "        # calculate the average training loss\n",
    "        avgTrainLoss = totalTrainLoss / len(train_dl)\n",
    "        trainCorrect = trainCorrect / trainNum\n",
    "        \n",
    "        # update our training history\n",
    "        train_losses.append(avgTrainLoss.cpu().detach().numpy())\n",
    "        train_accuracies.append(trainCorrect)\n",
    "            \n",
    "        # switch off autograd for evaluation\n",
    "        with torch.no_grad():\n",
    "            # set the model in evaluation mode\n",
    "            model.eval()\n",
    "            # loop over the validation set\n",
    "            for (x, y) in val_dl:\n",
    "                # send the input to the device\n",
    "                (x, y) = (x.to(device), y.to(device))\n",
    "                # make the predictions and calculate the validation loss\n",
    "                prediction = model(x)\n",
    "                loss = loss_fn(prediction, y)\n",
    "                \n",
    "                totalValLoss += loss\n",
    "                # calculate the number of correct predictions\n",
    "                valCorrect += (prediction.argmax(1) == y).type(torch.float).sum().item()\n",
    "        \n",
    "        # calculate the training and validation accuracy\n",
    "        avgValLoss = totalValLoss / len(val_dl)\n",
    "        valCorrect = valCorrect / valNum\n",
    "            \n",
    "\n",
    "        if valCorrect != 0:\n",
    "            val_losses.append(avgValLoss.cpu().detach().numpy())\n",
    "            val_accuracies.append(valCorrect)\n",
    "        \n",
    "        # Print progress\n",
    "        if valCorrect != 0:\n",
    "            print(\"Epoch {}/{}, train_loss: {:.4f}, val_loss: {:.4f}, train_accuracy: {:.4f}, val_accuracy: {:.4f}\"\n",
    "            .format(epoch+1, n_epochs, avgTrainLoss, avgValLoss, trainCorrect, valCorrect))\n",
    "        else:\n",
    "            print(\"Epoch {}/{}, train_loss: {:.4f}, train_accuracy: {:.4f}\"\n",
    "            .format(epoch+1, n_epochs, avgTrainLoss, trainCorrect))\n",
    "    \n",
    "    \n",
    "    return model, train_losses, val_losses, train_accuracies, val_accuracies"
   ]
  },
  {
   "cell_type": "code",
   "execution_count": 747,
   "metadata": {
    "id": "WLl883iGyuKI"
   },
   "outputs": [],
   "source": [
    "######################\n",
    "#   YOUR CODE BELOW  #\n",
    "######################\n",
    "# from torch.optim import SGD\n",
    "from torch.optim import Adam\n",
    "# import torch.optim as to\n",
    "\n",
    "num_epochs = 10# Max number of training epochs\n",
    "loss_fn = nn.CrossEntropyLoss()# Define the loss function\n",
    "lr = 0.001# Set the learning rate\n",
    "# opt_fn = SGD(model.parameters(), lr = lr, momentum = .9)# Select an optimizer\n",
    "opt_fn = Adam(model.parameters(), lr = lr, weight_decay=.0001)"
   ]
  },
  {
   "cell_type": "code",
   "execution_count": 748,
   "metadata": {
    "id": "UtSwd0s4yuKI"
   },
   "outputs": [
    {
     "name": "stdout",
     "output_type": "stream",
     "text": [
      "Epoch 1/10, train_loss: 0.4025, val_loss: 0.3050, train_accuracy: 0.8560, val_accuracy: 0.8925\n",
      "Epoch 2/10, train_loss: 0.2913, val_loss: 0.2915, train_accuracy: 0.8951, val_accuracy: 0.8988\n",
      "Epoch 3/10, train_loss: 0.2627, val_loss: 0.2744, train_accuracy: 0.9042, val_accuracy: 0.9008\n",
      "Epoch 4/10, train_loss: 0.2436, val_loss: 0.3027, train_accuracy: 0.9114, val_accuracy: 0.8924\n",
      "Epoch 5/10, train_loss: 0.2326, val_loss: 0.2773, train_accuracy: 0.9152, val_accuracy: 0.9050\n",
      "Epoch 6/10, train_loss: 0.2209, val_loss: 0.3314, train_accuracy: 0.9195, val_accuracy: 0.8919\n",
      "Epoch 7/10, train_loss: 0.2126, val_loss: 0.2839, train_accuracy: 0.9239, val_accuracy: 0.9064\n",
      "Epoch 8/10, train_loss: 0.2058, val_loss: 0.2759, train_accuracy: 0.9251, val_accuracy: 0.9083\n",
      "Epoch 9/10, train_loss: 0.1950, val_loss: 0.2902, train_accuracy: 0.9295, val_accuracy: 0.9002\n",
      "Epoch 10/10, train_loss: 0.1906, val_loss: 0.3016, train_accuracy: 0.9308, val_accuracy: 0.9002\n"
     ]
    }
   ],
   "source": [
    "history = train_model(num_epochs, model, train_dl, val_dl, loss_fn, opt_fn, lr)\n",
    "model, train_losses, val_losses, train_accuracies, val_accuracies = history"
   ]
  },
  {
   "cell_type": "markdown",
   "metadata": {
    "id": "83RGjj7MyuKJ"
   },
   "source": [
    "## Plot loss and accuracy\n",
    "\n",
    "Use the code blocks below to check if the model's accuracy increases and the model's loss values decrease throughout the training epochs. If you do not see the expected pattern, you need to go back and make sure the model's training stage is done correctly."
   ]
  },
  {
   "cell_type": "code",
   "execution_count": 749,
   "metadata": {
    "id": "fRMb23OVyuKJ"
   },
   "outputs": [],
   "source": [
    "def plot_accuracy(train_accuracies, val_accuracies):\n",
    "    \"\"\"Plot accuracies\"\"\"\n",
    "    plt.plot(train_accuracies, \"-x\")\n",
    "    plt.plot(val_accuracies, \"-o\")\n",
    "    plt.xlabel(\"Epoch\")\n",
    "    plt.ylabel(\"Accuracy\")\n",
    "    plt.legend([\"Training\", \"Validation\"])\n",
    "    plt.title(\"Accuracy vs. No. of epochs\")"
   ]
  },
  {
   "cell_type": "code",
   "execution_count": 750,
   "metadata": {
    "id": "KrSNfm-6yuKJ"
   },
   "outputs": [
    {
     "data": {
      "image/png": "[encoded data removed]",
      "text/plain": [
       "<Figure size 640x480 with 1 Axes>"
      ]
     },
     "metadata": {},
     "output_type": "display_data"
    }
   ],
   "source": [
    "plot_accuracy(train_accuracies, val_accuracies)"
   ]
  },
  {
   "cell_type": "code",
   "execution_count": 751,
   "metadata": {
    "id": "SO5QQZuKyuKJ"
   },
   "outputs": [],
   "source": [
    "def plot_losses(train_losses, val_losses):\n",
    "    \"\"\"Plot losses\"\"\"\n",
    "    plt.plot(train_losses, \"-x\")\n",
    "    plt.plot(val_losses, \"-o\")\n",
    "    plt.xlabel(\"Epoch\")\n",
    "    plt.ylabel(\"Loss\")\n",
    "    plt.legend([\"Training\", \"Validation\"])\n",
    "    plt.title(\"Loss vs. No. of Epochs\")"
   ]
  },
  {
   "cell_type": "code",
   "execution_count": 752,
   "metadata": {
    "id": "4BW28SSYyuKJ"
   },
   "outputs": [
    {
     "data": {
      "image/png": "[encoded data removed]",
      "text/plain": [
       "<Figure size 640x480 with 1 Axes>"
      ]
     },
     "metadata": {},
     "output_type": "display_data"
    }
   ],
   "source": [
    "plot_losses(train_losses, val_losses)"
   ]
  },
  {
   "cell_type": "markdown",
   "metadata": {
    "id": "Mcr9pxd8yuKJ"
   },
   "source": [
    "## Train a model on the entire dataset"
   ]
  },
  {
   "cell_type": "markdown",
   "metadata": {
    "id": "y_hq90Slx_BJ"
   },
   "source": [
    "We create a new model with the architecture based on hyperparameter tuning step and train it on the whole training data."
   ]
  },
  {
   "cell_type": "code",
   "execution_count": 753,
   "metadata": {
    "id": "xeytabxJ0ygs"
   },
   "outputs": [],
   "source": [
    "new_model = ImageClassifierNet()"
   ]
  },
  {
   "cell_type": "markdown",
   "metadata": {
    "id": "tXDRhr2L_wUq"
   },
   "source": [
    "**NOTE:** The next cell is necessary if you're training your new_model on a GPU."
   ]
  },
  {
   "cell_type": "code",
   "execution_count": 754,
   "metadata": {
    "id": "kr4-9BUD_wUq"
   },
   "outputs": [
    {
     "data": {
      "text/plain": [
       "ImageClassifierNet(\n",
       "  (conv1): Sequential(\n",
       "    (0): Conv2d(1, 16, kernel_size=(5, 5), stride=(1, 1), padding=(2, 2))\n",
       "    (1): ReLU()\n",
       "    (2): MaxPool2d(kernel_size=2, stride=2, padding=0, dilation=1, ceil_mode=False)\n",
       "  )\n",
       "  (conv2): Sequential(\n",
       "    (0): Conv2d(16, 32, kernel_size=(5, 5), stride=(1, 1), padding=(2, 2))\n",
       "    (1): ReLU()\n",
       "    (2): MaxPool2d(kernel_size=2, stride=2, padding=0, dilation=1, ceil_mode=False)\n",
       "  )\n",
       "  (out): Linear(in_features=1568, out_features=10, bias=True)\n",
       ")"
      ]
     },
     "execution_count": 754,
     "metadata": {},
     "output_type": "execute_result"
    }
   ],
   "source": [
    "to_device(new_model, device)"
   ]
  },
  {
   "cell_type": "code",
   "execution_count": 755,
   "metadata": {
    "id": "1vWfme9Exsib"
   },
   "outputs": [],
   "source": [
    "indices, _ = split_indices(len(dataset), 0, rand_seed)\n",
    "\n",
    "sampler = SubsetRandomSampler(indices)\n",
    "dl = DataLoader(dataset, batch_size, sampler=sampler)\n",
    "dl = DeviceDataLoader(dl, device)"
   ]
  },
  {
   "cell_type": "code",
   "execution_count": 757,
   "metadata": {
    "id": "oZxLGw9myuKJ"
   },
   "outputs": [
    {
     "ename": "ZeroDivisionError",
     "evalue": "division by zero",
     "output_type": "error",
     "traceback": [
      "\u001b[0;31m---------------------------------------------------------------------------\u001b[0m",
      "\u001b[0;31mZeroDivisionError\u001b[0m                         Traceback (most recent call last)",
      "Cell \u001b[0;32mIn[757], line 7\u001b[0m\n\u001b[1;32m      4\u001b[0m num_epochs \u001b[39m=\u001b[39m \u001b[39m10\u001b[39m\u001b[39m# Max number of training epochs\u001b[39;00m\n\u001b[1;32m      5\u001b[0m lr \u001b[39m=\u001b[39m \u001b[39m.001\u001b[39m\u001b[39m# Set the learning rate\u001b[39;00m\n\u001b[0;32m----> 7\u001b[0m history \u001b[39m=\u001b[39m train_model(num_epochs, new_model, dl, [], loss_fn, opt_fn, lr)\n\u001b[1;32m      8\u001b[0m new_model \u001b[39m=\u001b[39m history[\u001b[39m0\u001b[39m]\n",
      "Cell \u001b[0;32mIn[746], line 80\u001b[0m, in \u001b[0;36mtrain_model\u001b[0;34m(n_epochs, model, train_dl, val_dl, loss_fn, opt_fn, lr)\u001b[0m\n\u001b[1;32m     76\u001b[0m         valCorrect \u001b[39m+\u001b[39m\u001b[39m=\u001b[39m (prediction\u001b[39m.\u001b[39margmax(\u001b[39m1\u001b[39m) \u001b[39m==\u001b[39m y)\u001b[39m.\u001b[39mtype(torch\u001b[39m.\u001b[39mfloat)\u001b[39m.\u001b[39msum()\u001b[39m.\u001b[39mitem()\n\u001b[1;32m     78\u001b[0m \u001b[39mif\u001b[39;00m valNum \u001b[39m!=\u001b[39m \u001b[39m0\u001b[39m:\n\u001b[1;32m     79\u001b[0m     \u001b[39m# calculate the training and validation accuracy\u001b[39;00m\n\u001b[0;32m---> 80\u001b[0m     avgValLoss \u001b[39m=\u001b[39m totalValLoss \u001b[39m/\u001b[39;49m \u001b[39mlen\u001b[39;49m(val_dl)\n\u001b[1;32m     81\u001b[0m     valCorrect \u001b[39m=\u001b[39m valCorrect \u001b[39m/\u001b[39m valNum\n\u001b[1;32m     83\u001b[0m     val_losses\u001b[39m.\u001b[39mappend(avgValLoss\u001b[39m.\u001b[39mcpu()\u001b[39m.\u001b[39mdetach()\u001b[39m.\u001b[39mnumpy())\n",
      "\u001b[0;31mZeroDivisionError\u001b[0m: division by zero"
     ]
    }
   ],
   "source": [
    "######################\n",
    "#   YOUR CODE BELOW  #\n",
    "######################\n",
    "num_epochs = 10# Max number of training epochs\n",
    "lr = .001# Set the learning rate\n",
    "\n",
    "history = train_model(num_epochs, new_model, dl, [], loss_fn, opt_fn, lr)\n",
    "new_model = history[0]"
   ]
  },
  {
   "cell_type": "markdown",
   "metadata": {
    "id": "fhWY1imsyuKK"
   },
   "source": [
    "## Check Predictions"
   ]
  },
  {
   "cell_type": "code",
   "execution_count": null,
   "metadata": {
    "id": "nT4lsa5qyuKK"
   },
   "outputs": [],
   "source": [
    "def view_prediction(img, label, probs, classes):\n",
    "    \"\"\"\n",
    "    Visualize predictions.\n",
    "    \"\"\"\n",
    "    probs = probs.cpu().numpy().squeeze()\n",
    "\n",
    "    fig, (ax1, ax2) = plt.subplots(figsize=(8,15), ncols=2)\n",
    "    ax1.imshow(img.resize_(1, 28, 28).cpu().numpy().squeeze(), cmap='Greys_r')\n",
    "    ax1.axis('off')\n",
    "    ax1.set_title('Actual: {}'.format(classes[label]))\n",
    "    ax2.barh(np.arange(10), probs)\n",
    "    ax2.set_aspect(0.1)\n",
    "    ax2.set_yticks(np.arange(10))\n",
    "    ax2.set_yticklabels(classes, size='small');\n",
    "    ax2.set_title('Predicted: probabilities')\n",
    "    ax2.set_xlim(0, 1.1)\n",
    "\n",
    "    plt.tight_layout()"
   ]
  },
  {
   "cell_type": "code",
   "execution_count": null,
   "metadata": {
    "id": "VWQYxhFTyuKK"
   },
   "outputs": [],
   "source": [
    "# Calculate the class probabilites (log softmax) for img\n",
    "images = iter(dl)\n",
    "for imgs, labels in images:\n",
    "    with torch.no_grad():\n",
    "        new_model.eval()\n",
    "        # Calculate the class probabilites (log softmax) for img\n",
    "        probs = torch.nn.functional.softmax(new_model(imgs[0].unsqueeze(0)), dim=1)\n",
    "        # Plot the image and probabilites\n",
    "        view_prediction(imgs[0], labels[0], probs, dataset.classes)\n",
    "    break"
   ]
  },
  {
   "cell_type": "markdown",
   "metadata": {
    "id": "BzNYS3LRyuKK"
   },
   "source": [
    "## Save the model"
   ]
  },
  {
   "cell_type": "code",
   "execution_count": null,
   "metadata": {
    "id": "jxiqJXORyuKK"
   },
   "outputs": [],
   "source": [
    "torch.save(new_model, 'new_model')"
   ]
  },
  {
   "cell_type": "markdown",
   "metadata": {
    "id": "gA5cuahMyuKK"
   },
   "source": [
    "## Compute accuracy on the test set"
   ]
  },
  {
   "cell_type": "markdown",
   "metadata": {
    "id": "EluGZMKE2i0U"
   },
   "source": [
    "Here we load the test data pickle file provided.\n",
    "\n",
    "You need to provide the path for the test_data pickle file and run the cells."
   ]
  },
  {
   "cell_type": "code",
   "execution_count": null,
   "metadata": {
    "id": "9L6E5oAigIln"
   },
   "outputs": [],
   "source": [
    "import pickle"
   ]
  },
  {
   "cell_type": "code",
   "execution_count": null,
   "metadata": {
    "id": "nR1CIHF4gPZB"
   },
   "outputs": [],
   "source": [
    "######################\n",
    "#  YOUR Answer BELOW #\n",
    "######################\n",
    "test_dataset_file_path = \"test_data.pickle\"\n",
    "\n",
    "with open(test_dataset_file_path, 'rb') as f:\n",
    "    test_dataset = pickle.load(f)"
   ]
  },
  {
   "cell_type": "code",
   "execution_count": null,
   "metadata": {
    "id": "OQxtt0J-yuKK"
   },
   "outputs": [],
   "source": [
    "test_dl = DataLoader(test_dataset, batch_size)\n",
    "test_dl = DeviceDataLoader(test_dl, device)"
   ]
  },
  {
   "cell_type": "code",
   "execution_count": null,
   "metadata": {
    "id": "HZquvkV-yuKK"
   },
   "outputs": [],
   "source": [
    "def evaluate(model, test_dl):\n",
    "    with torch.no_grad():\n",
    "        model.eval()\n",
    "        total_test_dl = 0\n",
    "        preds, labels = [], []\n",
    "        for xb, yb in test_dl:\n",
    "            # Model output\n",
    "            y_pred = model(xb)\n",
    "            _, y_pred = torch.max(y_pred, dim=1)\n",
    "            preds.extend(y_pred)\n",
    "            labels.extend(yb)               \n",
    "            total_test_dl += len(yb)\n",
    "\n",
    "    preds, labels = torch.tensor(preds), torch.tensor(labels)\n",
    "    test_accuracy = torch.sum(preds == labels).item() / len(preds)\n",
    "    return test_accuracy"
   ]
  },
  {
   "cell_type": "code",
   "execution_count": null,
   "metadata": {
    "id": "-XP-C6cHyuKK"
   },
   "outputs": [],
   "source": [
    "print(\"Test Accuracy = {:.4f}\".format(evaluate(new_model, test_dl)))"
   ]
  }
 ],
 "metadata": {
  "colab": {
   "provenance": [],
   "toc_visible": true
  },
  "kernelspec": {
   "display_name": "Python 3 (ipykernel)",
   "language": "python",
   "name": "python3"
  },
  "language_info": {
   "codemirror_mode": {
    "name": "ipython",
    "version": 3
   },
   "file_extension": ".py",
   "mimetype": "text/x-python",
   "name": "python",
   "nbconvert_exporter": "python",
   "pygments_lexer": "ipython3",
   "version": "3.8.10"
  }
 },
 "nbformat": 4,
 "nbformat_minor": 4
}
